{
 "cells": [
  {
   "cell_type": "code",
   "execution_count": 1,
   "metadata": {},
   "outputs": [
    {
     "name": "stdout",
     "output_type": "stream",
     "text": [
      "Checking whether there is an H2O instance running at http://localhost:54321..... not found.\n",
      "Attempting to start a local H2O server...\n",
      "  Java Version: openjdk version \"1.8.0_181\"; OpenJDK Runtime Environment (build 1.8.0_181-8u181-b13-2~deb9u1-b13); OpenJDK 64-Bit Server VM (build 25.181-b13, mixed mode)\n",
      "  Starting server from /opt/conda/lib/python2.7/site-packages/h2o/backend/bin/h2o.jar\n",
      "  Ice root: /tmp/tmpz8qTmm\n",
      "  JVM stdout: /tmp/tmpz8qTmm/h2o_unknownUser_started_from_python.out\n",
      "  JVM stderr: /tmp/tmpz8qTmm/h2o_unknownUser_started_from_python.err\n",
      "  Server is running at http://127.0.0.1:54321\n",
      "Connecting to H2O server at http://127.0.0.1:54321... successful.\n"
     ]
    },
    {
     "data": {
      "text/html": [
       "<div style=\"overflow:auto\"><table style=\"width:50%\"><tr><td>H2O cluster uptime:</td>\n",
       "<td>01 secs</td></tr>\n",
       "<tr><td>H2O cluster timezone:</td>\n",
       "<td>Etc/UTC</td></tr>\n",
       "<tr><td>H2O data parsing timezone:</td>\n",
       "<td>UTC</td></tr>\n",
       "<tr><td>H2O cluster version:</td>\n",
       "<td>3.22.1.1</td></tr>\n",
       "<tr><td>H2O cluster version age:</td>\n",
       "<td>23 days </td></tr>\n",
       "<tr><td>H2O cluster name:</td>\n",
       "<td>H2O_from_python_unknownUser_ukj9f9</td></tr>\n",
       "<tr><td>H2O cluster total nodes:</td>\n",
       "<td>1</td></tr>\n",
       "<tr><td>H2O cluster free memory:</td>\n",
       "<td>3.042 Gb</td></tr>\n",
       "<tr><td>H2O cluster total cores:</td>\n",
       "<td>7</td></tr>\n",
       "<tr><td>H2O cluster allowed cores:</td>\n",
       "<td>7</td></tr>\n",
       "<tr><td>H2O cluster status:</td>\n",
       "<td>accepting new members, healthy</td></tr>\n",
       "<tr><td>H2O connection url:</td>\n",
       "<td>http://127.0.0.1:54321</td></tr>\n",
       "<tr><td>H2O connection proxy:</td>\n",
       "<td>None</td></tr>\n",
       "<tr><td>H2O internal security:</td>\n",
       "<td>False</td></tr>\n",
       "<tr><td>H2O API Extensions:</td>\n",
       "<td>XGBoost, Algos, AutoML, Core V3, Core V4</td></tr>\n",
       "<tr><td>Python version:</td>\n",
       "<td>2.7.15 final</td></tr></table></div>"
      ],
      "text/plain": [
       "--------------------------  ----------------------------------------\n",
       "H2O cluster uptime:         01 secs\n",
       "H2O cluster timezone:       Etc/UTC\n",
       "H2O data parsing timezone:  UTC\n",
       "H2O cluster version:        3.22.1.1\n",
       "H2O cluster version age:    23 days\n",
       "H2O cluster name:           H2O_from_python_unknownUser_ukj9f9\n",
       "H2O cluster total nodes:    1\n",
       "H2O cluster free memory:    3.042 Gb\n",
       "H2O cluster total cores:    7\n",
       "H2O cluster allowed cores:  7\n",
       "H2O cluster status:         accepting new members, healthy\n",
       "H2O connection url:         http://127.0.0.1:54321\n",
       "H2O connection proxy:\n",
       "H2O internal security:      False\n",
       "H2O API Extensions:         XGBoost, Algos, AutoML, Core V3, Core V4\n",
       "Python version:             2.7.15 final\n",
       "--------------------------  ----------------------------------------"
      ]
     },
     "metadata": {},
     "output_type": "display_data"
    },
    {
     "name": "stdout",
     "output_type": "stream",
     "text": [
      "Parse progress: |█████████████████████████████████████████████████████████| 100%\n"
     ]
    }
   ],
   "source": [
    "import h2o\n",
    "import random\n",
    "import mlflow\n",
    "import mlflow.h2o\n",
    "from h2o.estimators.random_forest import H2ORandomForestEstimator\n",
    "h2o.init()\n",
    "\n",
    "wine = h2o.import_file(path=\"wine-quality.csv\")\n",
    "r = wine['quality'].runif()\n",
    "train = wine[r  < 0.7]\n",
    "test  = wine[0.3 <= r]"
   ]
  },
  {
   "cell_type": "code",
   "execution_count": 2,
   "metadata": {},
   "outputs": [],
   "source": [
    "def train_random_forest(ntrees):\n",
    "    with mlflow.start_run():\n",
    "        rf = H2ORandomForestEstimator(ntrees=ntrees)\n",
    "        train_cols = [n for n in wine.col_names if n != \"quality\"]\n",
    "        rf.train(train_cols, \"quality\", training_frame=train, validation_frame=test)\n",
    "        \n",
    "        mlflow.log_param(\"ntrees\", ntrees)\n",
    "        \n",
    "        mlflow.log_metric(\"rmse\", rf.rmse())\n",
    "        mlflow.log_metric(\"r2\", rf.r2())\n",
    "        mlflow.log_metric(\"mae\", rf.mae())\n",
    "        \n",
    "        mlflow.h2o.log_model(rf, \"model\")"
   ]
  },
  {
   "cell_type": "code",
   "execution_count": 3,
   "metadata": {},
   "outputs": [
    {
     "name": "stdout",
     "output_type": "stream",
     "text": [
      "drf Model Build progress: |███████████████████████████████████████████████| 100%\n",
      "drf Model Build progress: |███████████████████████████████████████████████| 100%\n",
      "drf Model Build progress: |███████████████████████████████████████████████| 100%\n",
      "drf Model Build progress: |███████████████████████████████████████████████| 100%\n",
      "drf Model Build progress: |███████████████████████████████████████████████| 100%\n"
     ]
    }
   ],
   "source": [
    "for ntrees in [10]:\n",
    "    train_random_forest(ntrees)"
   ]
  },
  {
   "cell_type": "code",
   "execution_count": 4,
   "metadata": {},
   "outputs": [],
   "source": [
    "import yaml"
   ]
  },
  {
   "cell_type": "code",
   "execution_count": 5,
   "metadata": {},
   "outputs": [
    {
     "data": {
      "text/plain": [
       "<function yaml.safe_dump>"
      ]
     },
     "execution_count": 5,
     "metadata": {},
     "output_type": "execute_result"
    }
   ],
   "source": [
    "yaml.safe_dump"
   ]
  },
  {
   "cell_type": "code",
   "execution_count": 1,
   "metadata": {},
   "outputs": [
    {
     "name": "stdout",
     "output_type": "stream",
     "text": [
      "env: CONDA_PKGS_DIRS=/opt/conda/pkgs\n",
      "env: CONDA_ENVS_DIRS=/opt/conda/$USER/envs\n",
      "env: MLFLOW_TRACKING_URI=http://localhost:5050\n",
      "2020/06/09 08:20:07 INFO mlflow.projects: === Creating conda environment mlflow-7a380f23072e667b6f5907e2de6e868c15dd18d1 ===\n",
      "Warning: you have pip-installed dependencies in your environment file, but you do not list pip itself as one of your conda dependencies.  Conda may not use the correct pip to install your packages, and they may end up in the wrong place.  Please add an explicit pip dependency.  I'm adding one for you, but still nagging you.\n",
      "Collecting package metadata (repodata.json): done\n",
      "Solving environment: done\n",
      "\n",
      "Downloading and Extracting Packages\n",
      "pandas-0.25.3        | 8.8 MB    | ##################################### | 100% \n",
      "six-1.15.0           | 13 KB     | ##################################### | 100% \n",
      "pytz-2020.1          | 184 KB    | ##################################### | 100% \n",
      "numpy-1.14.2         | 3.3 MB    | ##################################### | 100% \n",
      "python-dateutil-2.8. | 215 KB    | ##################################### | 100% \n",
      "Preparing transaction: done\n",
      "Verifying transaction: done\n",
      "Executing transaction: done\n",
      "Ran pip subprocess with arguments:\n",
      "['/opt/conda/abhishek/envs/mlflow-7a380f23072e667b6f5907e2de6e868c15dd18d1/bin/python', '-m', 'pip', 'install', '-U', '-r', '/home/abhishek/mlflows/h2o/condaenv.l2kxitsd.requirements.txt']\n",
      "Pip subprocess output:\n",
      "Processing /home/abhishek/.cache/pip/wheels/49/d1/6b/68674a0a54b2681497090931c5998b9f98a8cdfc932355903a/h2o-3.30.0.4-py2.py3-none-any.whl\n",
      "Collecting mlflow>=1.0\n",
      "  Using cached mlflow-1.8.0-py3-none-any.whl (10.4 MB)\n",
      "Collecting google-cloud-storage\n",
      "  Using cached google_cloud_storage-1.28.1-py2.py3-none-any.whl (80 kB)\n",
      "Processing /home/abhishek/.cache/pip/wheels/6e/9c/ed/4499c9865ac1002697793e0ae05ba6be33553d098f3347fb94/future-0.18.2-py3-none-any.whl\n",
      "Collecting colorama>=0.3.8\n",
      "  Using cached colorama-0.4.3-py2.py3-none-any.whl (15 kB)\n",
      "Collecting requests\n",
      "  Using cached requests-2.23.0-py2.py3-none-any.whl (58 kB)\n",
      "Collecting tabulate\n",
      "  Using cached tabulate-0.8.7-py3-none-any.whl (24 kB)\n",
      "Collecting gitpython>=2.1.0\n",
      "  Using cached GitPython-3.1.3-py3-none-any.whl (451 kB)\n",
      "Processing /home/abhishek/.cache/pip/wheels/f2/50/61/5cc491b0ca39be60dfb4dce940b389ff91b847d62e0eb2d680/alembic-1.4.2-py2.py3-none-any.whl\n",
      "Collecting cloudpickle\n",
      "  Using cached cloudpickle-1.4.1-py3-none-any.whl (26 kB)\n",
      "Requirement already satisfied, skipping upgrade: pandas in /opt/conda/abhishek/envs/mlflow-7a380f23072e667b6f5907e2de6e868c15dd18d1/lib/python3.6/site-packages (from mlflow>=1.0->-r /home/abhishek/mlflows/h2o/condaenv.l2kxitsd.requirements.txt (line 2)) (0.25.3)\n",
      "Processing /home/abhishek/.cache/pip/wheels/87/da/0d/a9e8051c7c19128c271107462cd444b37afc22aaed15061ed5/querystring_parser-1.2.4-py3-none-any.whl\n",
      "Processing /home/abhishek/.cache/pip/wheels/28/3e/f9/8eca04781258bb6956ffba37e4e6e6951e5b3a16d4494b91cb/SQLAlchemy-1.3.13-cp36-cp36m-linux_x86_64.whl\n",
      "Collecting sqlparse\n",
      "  Using cached sqlparse-0.3.1-py2.py3-none-any.whl (40 kB)\n",
      "Requirement already satisfied, skipping upgrade: numpy in /opt/conda/abhishek/envs/mlflow-7a380f23072e667b6f5907e2de6e868c15dd18d1/lib/python3.6/site-packages (from mlflow>=1.0->-r /home/abhishek/mlflows/h2o/condaenv.l2kxitsd.requirements.txt (line 2)) (1.14.2)\n",
      "Processing /home/abhishek/.cache/pip/wheels/c2/95/a2/477b46cfe980061fddc4cb76ed4657eceec35d2b2090355e41/simplejson-3.17.0-py3-none-any.whl\n",
      "Collecting protobuf>=3.6.0\n",
      "  Using cached protobuf-3.12.2-cp36-cp36m-manylinux1_x86_64.whl (1.3 MB)\n",
      "Collecting click>=7.0\n",
      "  Using cached click-7.1.2-py2.py3-none-any.whl (82 kB)\n",
      "Collecting gunicorn; platform_system != \"Windows\"\n",
      "  Using cached gunicorn-20.0.4-py2.py3-none-any.whl (77 kB)\n",
      "Processing /home/abhishek/.cache/pip/wheels/0e/fb/b5/7cf166931a7386f3e0ddb6f7cd1d763d95b4a29823657ef429/prometheus_flask_exporter-0.13.0-py3-none-any.whl\n",
      "Requirement already satisfied, skipping upgrade: six>=1.10.0 in /opt/conda/abhishek/envs/mlflow-7a380f23072e667b6f5907e2de6e868c15dd18d1/lib/python3.6/site-packages (from mlflow>=1.0->-r /home/abhishek/mlflows/h2o/condaenv.l2kxitsd.requirements.txt (line 2)) (1.15.0)\n",
      "Collecting Flask\n",
      "  Using cached Flask-1.1.2-py2.py3-none-any.whl (94 kB)\n",
      "Collecting gorilla\n",
      "  Using cached gorilla-0.3.0-py2.py3-none-any.whl (11 kB)\n",
      "Processing /home/abhishek/.cache/pip/wheels/42/9f/68/f17e7b4af8b8b954ce3a590ac1ad3a4eccd756a13348db31d6/databricks_cli-0.11.0-py3-none-any.whl\n",
      "Collecting docker>=4.0.0\n",
      "  Using cached docker-4.2.1-py2.py3-none-any.whl (143 kB)\n",
      "Collecting entrypoints\n",
      "  Using cached entrypoints-0.3-py2.py3-none-any.whl (11 kB)\n",
      "Requirement already satisfied, skipping upgrade: python-dateutil in /opt/conda/abhishek/envs/mlflow-7a380f23072e667b6f5907e2de6e868c15dd18d1/lib/python3.6/site-packages (from mlflow>=1.0->-r /home/abhishek/mlflows/h2o/condaenv.l2kxitsd.requirements.txt (line 2)) (2.8.1)\n",
      "Processing /home/abhishek/.cache/pip/wheels/e5/9d/ad/2ee53cf262cba1ffd8afe1487eef788ea3f260b7e6232a80fc/PyYAML-5.3.1-cp36-cp36m-linux_x86_64.whl\n",
      "Collecting google-resumable-media<0.6dev,>=0.5.0\n",
      "  Using cached google_resumable_media-0.5.1-py2.py3-none-any.whl (38 kB)\n",
      "Collecting google-auth<2.0dev,>=1.11.0\n",
      "  Using cached google_auth-1.16.1-py2.py3-none-any.whl (90 kB)\n",
      "Collecting google-cloud-core<2.0dev,>=1.2.0\n",
      "  Using cached google_cloud_core-1.3.0-py2.py3-none-any.whl (26 kB)\n",
      "Requirement already satisfied, skipping upgrade: certifi>=2017.4.17 in /opt/conda/abhishek/envs/mlflow-7a380f23072e667b6f5907e2de6e868c15dd18d1/lib/python3.6/site-packages (from requests->h2o->-r /home/abhishek/mlflows/h2o/condaenv.l2kxitsd.requirements.txt (line 1)) (2020.4.5.1)\n",
      "Collecting idna<3,>=2.5\n",
      "  Using cached idna-2.9-py2.py3-none-any.whl (58 kB)\n",
      "Collecting chardet<4,>=3.0.2\n",
      "  Using cached chardet-3.0.4-py2.py3-none-any.whl (133 kB)\n",
      "Collecting urllib3!=1.25.0,!=1.25.1,<1.26,>=1.21.1\n",
      "  Using cached urllib3-1.25.9-py2.py3-none-any.whl (126 kB)\n",
      "Collecting gitdb<5,>=4.0.1\n",
      "  Using cached gitdb-4.0.5-py3-none-any.whl (63 kB)\n",
      "Collecting Mako\n",
      "  Using cached Mako-1.1.3-py2.py3-none-any.whl (75 kB)\n",
      "Collecting python-editor>=0.3\n",
      "  Using cached python_editor-1.0.4-py3-none-any.whl (4.9 kB)\n",
      "Requirement already satisfied, skipping upgrade: pytz>=2017.2 in /opt/conda/abhishek/envs/mlflow-7a380f23072e667b6f5907e2de6e868c15dd18d1/lib/python3.6/site-packages (from pandas->mlflow>=1.0->-r /home/abhishek/mlflows/h2o/condaenv.l2kxitsd.requirements.txt (line 2)) (2020.1)\n",
      "Requirement already satisfied, skipping upgrade: setuptools in /opt/conda/abhishek/envs/mlflow-7a380f23072e667b6f5907e2de6e868c15dd18d1/lib/python3.6/site-packages (from protobuf>=3.6.0->mlflow>=1.0->-r /home/abhishek/mlflows/h2o/condaenv.l2kxitsd.requirements.txt (line 2)) (47.1.1.post20200604)\n",
      "Collecting prometheus-client\n",
      "  Using cached prometheus_client-0.8.0-py2.py3-none-any.whl (53 kB)\n",
      "Collecting itsdangerous>=0.24\n",
      "  Using cached itsdangerous-1.1.0-py2.py3-none-any.whl (16 kB)\n",
      "Collecting Jinja2>=2.10.1\n",
      "  Using cached Jinja2-2.11.2-py2.py3-none-any.whl (125 kB)\n",
      "Collecting Werkzeug>=0.15\n",
      "  Using cached Werkzeug-1.0.1-py2.py3-none-any.whl (298 kB)\n",
      "Collecting websocket-client>=0.32.0\n",
      "  Using cached websocket_client-0.57.0-py2.py3-none-any.whl (200 kB)\n",
      "Collecting cachetools<5.0,>=2.0.0\n",
      "  Using cached cachetools-4.1.0-py3-none-any.whl (10 kB)\n",
      "Collecting pyasn1-modules>=0.2.1\n",
      "  Using cached pyasn1_modules-0.2.8-py2.py3-none-any.whl (155 kB)\n",
      "Collecting rsa<4.1,>=3.1.4\n",
      "  Using cached rsa-4.0-py2.py3-none-any.whl (38 kB)\n",
      "Collecting google-api-core<2.0.0dev,>=1.16.0\n",
      "  Using cached google_api_core-1.19.1-py2.py3-none-any.whl (90 kB)\n",
      "Collecting smmap<4,>=3.0.1\n",
      "  Using cached smmap-3.0.4-py2.py3-none-any.whl (25 kB)\n",
      "Collecting MarkupSafe>=0.9.2\n",
      "  Using cached MarkupSafe-1.1.1-cp36-cp36m-manylinux1_x86_64.whl (27 kB)\n",
      "Collecting pyasn1<0.5.0,>=0.4.6\n",
      "  Using cached pyasn1-0.4.8-py2.py3-none-any.whl (77 kB)\n",
      "Collecting googleapis-common-protos<2.0dev,>=1.6.0\n",
      "  Using cached googleapis_common_protos-1.52.0-py2.py3-none-any.whl (100 kB)\n",
      "Installing collected packages: future, colorama, idna, chardet, urllib3, requests, tabulate, h2o, smmap, gitdb, gitpython, MarkupSafe, Mako, sqlalchemy, python-editor, alembic, cloudpickle, querystring-parser, sqlparse, simplejson, protobuf, click, gunicorn, itsdangerous, Jinja2, Werkzeug, Flask, prometheus-client, prometheus-flask-exporter, gorilla, databricks-cli, websocket-client, docker, entrypoints, pyyaml, mlflow, google-resumable-media, cachetools, pyasn1, pyasn1-modules, rsa, google-auth, googleapis-common-protos, google-api-core, google-cloud-core, google-cloud-storage\n",
      "Successfully installed Flask-1.1.2 Jinja2-2.11.2 Mako-1.1.3 MarkupSafe-1.1.1 Werkzeug-1.0.1 alembic-1.4.2 cachetools-4.1.0 chardet-3.0.4 click-7.1.2 cloudpickle-1.4.1 colorama-0.4.3 databricks-cli-0.11.0 docker-4.2.1 entrypoints-0.3 future-0.18.2 gitdb-4.0.5 gitpython-3.1.3 google-api-core-1.19.1 google-auth-1.16.1 google-cloud-core-1.3.0 google-cloud-storage-1.28.1 google-resumable-media-0.5.1 googleapis-common-protos-1.52.0 gorilla-0.3.0 gunicorn-20.0.4 h2o-3.30.0.4 idna-2.9 itsdangerous-1.1.0 mlflow-1.8.0 prometheus-client-0.8.0 prometheus-flask-exporter-0.13.0 protobuf-3.12.2 pyasn1-0.4.8 pyasn1-modules-0.2.8 python-editor-1.0.4 pyyaml-5.3.1 querystring-parser-1.2.4 requests-2.23.0 rsa-4.0 simplejson-3.17.0 smmap-3.0.4 sqlalchemy-1.3.13 sqlparse-0.3.1 tabulate-0.8.7 urllib3-1.25.9 websocket-client-0.57.0\n",
      "\n",
      "#\n",
      "# To activate this environment, use\n",
      "#\n",
      "#     $ conda activate mlflow-7a380f23072e667b6f5907e2de6e868c15dd18d1\n",
      "#\n",
      "# To deactivate an active environment, use\n",
      "#\n",
      "#     $ conda deactivate\n",
      "\n",
      "2020/06/09 08:21:02 INFO mlflow.projects: === Created directory /tmp/tmpa3micczt for downloading remote URIs passed to arguments of type 'path' ===\n",
      "2020/06/09 08:21:02 INFO mlflow.projects: === Running command 'source activate mlflow-7a380f23072e667b6f5907e2de6e868c15dd18d1 1>&2 && python random_forest.py --alpha 0.5' in run with ID '9c13a27d810a4256967b809914c3f9ec' === \n",
      "Checking whether there is an H2O instance running at http://localhost:54321 ..... not found.\n",
      "Attempting to start a local H2O server...\n",
      "  Java Version: openjdk version \"1.8.0_252\"; OpenJDK Runtime Environment (build 1.8.0_252-8u252-b09-1~16.04-b09); OpenJDK 64-Bit Server VM (build 25.252-b09, mixed mode)\n",
      "  Starting server from /opt/conda/abhishek/envs/mlflow-7a380f23072e667b6f5907e2de6e868c15dd18d1/lib/python3.6/site-packages/h2o/backend/bin/h2o.jar\n",
      "  Ice root: /tmp/tmplsiuaz5d\n",
      "  JVM stdout: /tmp/tmplsiuaz5d/h2o_abhishek_started_from_python.out\n",
      "  JVM stderr: /tmp/tmplsiuaz5d/h2o_abhishek_started_from_python.err\n",
      "  Server is running at http://127.0.0.1:54321\n",
      "Connecting to H2O server at http://127.0.0.1:54321 ... successful.\n",
      "--------------------------  ------------------------------------------------------------------\n",
      "H2O_cluster_uptime:         03 secs\n",
      "H2O_cluster_timezone:       Etc/UTC\n",
      "H2O_data_parsing_timezone:  UTC\n",
      "H2O_cluster_version:        3.30.0.4\n",
      "H2O_cluster_version_age:    7 days, 17 hours and 6 minutes\n",
      "H2O_cluster_name:           H2O_from_python_abhishek_zohlca\n",
      "H2O_cluster_total_nodes:    1\n",
      "H2O_cluster_free_memory:    893 Mb\n",
      "H2O_cluster_total_cores:    1\n",
      "H2O_cluster_allowed_cores:  1\n",
      "H2O_cluster_status:         accepting new members, healthy\n",
      "H2O_connection_url:         http://127.0.0.1:54321\n",
      "H2O_connection_proxy:       {\"http\": null, \"https\": null}\n",
      "H2O_internal_security:      False\n",
      "H2O_API_Extensions:         Amazon S3, XGBoost, Algos, AutoML, Core V3, TargetEncoder, Core V4\n",
      "Python_version:             3.6.10 final\n",
      "--------------------------  ------------------------------------------------------------------\n",
      "Parse progress: |█████████████████████████████████████████████████████████| 100%\n",
      "drf Model Build progress: |███████████████████████████████████████████████| 100%drf Model Build progress: |██████████████████▍                            |  39%drf Model Build progress: |█████████████████████▌                         |  45%drf Model Build progress: |████████████████████████████████▋              |  69%\n",
      "drf Model Build progress: |███████████████████████████████████████████████| 100%drf Model Build progress: |████▋                                          |  10%drf Model Build progress: |██████████████▎                                |  30%drf Model Build progress: |███████████████████▊                           |  42%drf Model Build progress: |████████████████████████▎                      |  51%drf Model Build progress: |███████████████████████████████▉               |  68%drf Model Build progress: |███████████████████████████████████            |  74%\n",
      "drf Model Build progress: |███████████████████████████████████████████████| 100%drf Model Build progress: |█▏                                             |   2%drf Model Build progress: |████████████████                               |  34%drf Model Build progress: |████████████████▋                              |  35%drf Model Build progress: |███████████████████▍                           |  41%drf Model Build progress: |████████████████████▌                          |  43%drf Model Build progress: |██████████████████████▎                        |  47%\n",
      "drf Model Build progress: |███████████████████████████████████████████████| 100%drf Model Build progress: |████                                           |   8%drf Model Build progress: |█████                                          |  10%drf Model Build progress: |███████████████████▋                           |  41%drf Model Build progress: |██████████████████████▋                        |  48%drf Model Build progress: |███████████████████████▉                       |  51%drf Model Build progress: |███████████████████████████████▌               |  67%\n",
      "drf Model Build progress: |███████████████████████████████████████████████| 100%drf Model Build progress: |█                                              |   2%drf Model Build progress: |████████▉                                      |  19%drf Model Build progress: |██████████▌                                    |  22%drf Model Build progress: |████████████▌                                  |  26%drf Model Build progress: |████████████████████▏                          |  43%drf Model Build progress: |████████████████████▊                          |  44%drf Model Build progress: |██████████████████████████████▍                |  64%\n",
      "Closing connection _sid_8658 at exit\n",
      "H2O session _sid_8658 closed.\n",
      "\u001b[0m2020/06/09 08:21:48 INFO mlflow.projects: === Run (ID '9c13a27d810a4256967b809914c3f9ec') succeeded ===\n"
     ]
    }
   ],
   "source": [
    "%env CONDA_PKGS_DIRS=/opt/conda/pkgs\n",
    "%env CONDA_ENVS_DIRS=/opt/conda/$USER/envs\n",
    "%env MLFLOW_TRACKING_URI=http://localhost:5050\n",
    "!mlflow run . -P alpha=0.5"
   ]
  },
  {
   "cell_type": "code",
   "execution_count": null,
   "metadata": {},
   "outputs": [],
   "source": []
  }
 ],
 "metadata": {
  "kernelspec": {
   "display_name": "Python 3",
   "language": "python",
   "name": "python3"
  },
  "language_info": {
   "codemirror_mode": {
    "name": "ipython",
    "version": 3
   },
   "file_extension": ".py",
   "mimetype": "text/x-python",
   "name": "python",
   "nbconvert_exporter": "python",
   "pygments_lexer": "ipython3",
   "version": "3.7.6"
  }
 },
 "nbformat": 4,
 "nbformat_minor": 4
}
